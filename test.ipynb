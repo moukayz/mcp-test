{
 "cells": [
  {
   "cell_type": "code",
   "execution_count": null,
   "metadata": {},
   "outputs": [],
   "source": [
    "import json\n",
    "import toml\n",
    "\n",
    "# Sample JSON string\n",
    "json_str = '''\n",
    "{\n",
    "  \"title\": \"Example Config\",\n",
    "  \"owner\": {\n",
    "    \"name\": \"Alice\",\n",
    "    \"dob\": \"1990-01-01T00:00:00Z\",\n",
    "    \"age\": 34,\n",
    "    \"active\": true\n",
    "  },\n",
    "  \"servers\": [\n",
    "    {\"id\": 1, \"ip\": \"192.168.1.1\", \"region\": \"北京\"},\n",
    "    {\"id\": 2, \"ip\": \"10.0.0.1\", \"region\": \"上海\"}\n",
    "  ]\n",
    "}\n",
    "'''\n",
    "\n",
    "test_str = '''\n",
    "{\n",
    "  \"best_flights\": [\n",
    "    {\n",
    "      \"flights\": [\n",
    "        {\n",
    "          \"departure_airport\": {\n",
    "            \"name\": \"String - Departure airport name\",\n",
    "            \"id\": \"String - Departure airport code\",\n",
    "            \"time\": \"String - Departure time\"\n",
    "          },\n",
    "          \"arrival_airport\": {\n",
    "            \"name\": \"String - Arrival airport name\",\n",
    "            \"id\": \"String - Arrival airport code\",\n",
    "            \"time\": \"String - Arrival time\"\n",
    "          },\n",
    "          \"duration\": \"Integer - Flight duration, in minutes\",\n",
    "          \"airplane\": \"String - Airplane model\",\n",
    "          \"airline\": \"String - Name of the airline\",\n",
    "          \"airline_logo\": \"String - URL to the logo of the airline\",\n",
    "          \"travel_class\": \"String - Travel class\",\n",
    "          \"flight_number\": \"String - The flight number\",\n",
    "          \"extensions\": \"Array - A list of flight features\",\n",
    "          \"ticket_also_sold_by\": \"Array - A list of other sellers\",\n",
    "          \"legroom\": \"String - The legroom, including unit\",\n",
    "          \"overnight\": \"Boolean - Returns 'true' if the flight is overnight\",\n",
    "          \"often_delayed_by_over_30_min\": \"Boolean - Returns 'true' if the flight is often delayed by 30+ min.\",\n",
    "          \"plane_and_crew_by\": \"String - Information about operating airline that provides the plane and the crew\"\n",
    "        }\n",
    "      ],\n",
    "      \"layovers\": [\n",
    "        {\n",
    "          \"duration\": \"Integer - Duration of the layover, in minutes\",\n",
    "          \"name\": \"String - Name of the airport for the layover\",\n",
    "          \"id\": \"String - The airport code for the layover\",\n",
    "          \"overnight\": \"Boolean - Returns 'true' if the layover is overnight\"\n",
    "        }\n",
    "      ],\n",
    "      \"total_duration\": \"Integer - Total minutes of all flights and layovers\",\n",
    "      \"carbon_emissions\": {\n",
    "        \"this_flight\": \"Integer - The amount of carbon emissions of the flight, in grams\",\n",
    "        \"typical_for_this_route\": \"Integer - Typical amount of carbon emissions for the route, in grams\",\n",
    "        \"difference_percent\": \"Integer - The carbon emissions difference between the flight and typical value, in percent\"\n",
    "      },\n",
    "      \"price\": \"Integer - This ticket price in the selected currency, the default currency is USD\",\n",
    "      \"type\": \"String - The type of the flight. It's a reflection of the request parameter `type`\",\n",
    "      \"airline_logo\": \"String - URL to the logo of mixed airlines\",\n",
    "      \"extensions\": \"Array - A list of features of the entire flight\",\n",
    "      \"departure_token\": \"String - The token for retrieving returning flights when the flight type is 'Round trip'\",\n",
    "      \"booking_token\": \"String - The token for retrieving booking options for selected flights\"\n",
    "    }\n",
    "  ],\n",
    "  \"price_insights\": {\n",
    "    \"lowest_price\": \"Integer - The lowest price among the returned flights\",\n",
    "    \"price_level\": \"String - Price level of the lowest_price\",\n",
    "    \"typical_price_range\": \"Array - A two-integer array, indicating the low bound and high bound of 'typical' price of this flight\",\n",
    "    \"price_history\": \"Array - A two-integer array, where the first element is the timestamp, and the second one is the price\"\n",
    "  },\n",
    "  \"airports\": [\n",
    "    {\n",
    "      \"departure\": [\n",
    "        {\n",
    "          \"airport\": {\n",
    "            \"name\": \"String - Departure airport name\",\n",
    "            \"id\": \"String - Departure airport code\"\n",
    "          },\n",
    "          \"city\": \"String - Departure city\",\n",
    "          \"country\": \"String - Departure country name\",\n",
    "          \"country_code\": \"String - Departure country code\",\n",
    "          \"image\": \"String - URL to the image of the departure city\",\n",
    "          \"thumbnail\": \"String - URL to the thumbnail image of the departure city\"\n",
    "        }\n",
    "      ],\n",
    "      \"arrival\": [\n",
    "        {\n",
    "          \"airport\": {\n",
    "            \"name\": \"String - Arrival airport name\",\n",
    "            \"id\": \"String - Arrival airport code\"\n",
    "          },\n",
    "          \"city\": \"String - Arrival city\",\n",
    "          \"country\": \"String - Arrival country name\",\n",
    "          \"country_code\": \"String - Arrival country code\",\n",
    "          \"image\": \"String - URL to the image of the arrival city\",\n",
    "          \"thumbnail\": \"String - URL to the thumbnail image of the arrival city\"\n",
    "        }\n",
    "      ]\n",
    "    }\n",
    "  ]\n",
    "}\n",
    "'''\n",
    "\n",
    "# Step 1: Parse JSON string to Python dict\n",
    "data = json.loads(test_str)\n",
    "\n",
    "# Step 2: Convert Python dict to TOML string\n",
    "toml_str = toml.dumps(data)\n",
    "\n",
    "print(toml_str)"
   ]
  },
  {
   "cell_type": "code",
   "execution_count": null,
   "metadata": {},
   "outputs": [],
   "source": [
    "from serpapi import GoogleSearch\n",
    "\n",
    "params = {\n",
    "  \"engine\": \"google_flights\",\n",
    "  \"departure_id\": \"PEK\",\n",
    "  \"arrival_id\": \"AUS\",\n",
    "  \"outbound_date\": \"2025-05-25\",\n",
    "  \"return_date\": \"2025-05-29\",\n",
    "  \"currency\": \"USD\",\n",
    "  \"hl\": \"en\",\n",
    "  \"api_key\": \"8f3275b443423d97c1bcc5fd8453f3e3b260bf73cdd2c3282c74da4d8c4e06a2\"\n",
    "}\n",
    "\n",
    "search = GoogleSearch(params)\n",
    "results = search.get_dict()"
   ]
  },
  {
   "cell_type": "code",
   "execution_count": 11,
   "metadata": {},
   "outputs": [],
   "source": [
    "from server.google_flights import FlightsResponseModel\n",
    "\n",
    "import json \n",
    "\n",
    "with open('server/sample_response.json', 'r') as f:\n",
    "    obj = json.load(f)\n",
    "    obj['test'] = 1\n",
    "    a = FlightsResponseModel(**obj)"
   ]
  },
  {
   "cell_type": "code",
   "execution_count": null,
   "metadata": {},
   "outputs": [],
   "source": [
    "a.test"
   ]
  },
  {
   "cell_type": "code",
   "execution_count": null,
   "metadata": {},
   "outputs": [],
   "source": []
  },
  {
   "cell_type": "code",
   "execution_count": null,
   "metadata": {},
   "outputs": [],
   "source": []
  },
  {
   "cell_type": "code",
   "execution_count": null,
   "metadata": {},
   "outputs": [],
   "source": [
    "a.best_flights[0].model_dump()\n"
   ]
  },
  {
   "cell_type": "code",
   "execution_count": 7,
   "metadata": {},
   "outputs": [],
   "source": [
    "output_data = {}\n",
    "if a.best_flights:\n",
    "    output_data[\"best_flights\"] = [\n",
    "        flight.model_dump(exclude_none=True) for flight in a.best_flights\n",
    "    ]\n",
    "if a.other_flights:\n",
    "    output_data[\"other_flights\"] = [\n",
    "        flight.model_dump(exclude_none=True) for flight in a.other_flights\n",
    "    ]"
   ]
  },
  {
   "cell_type": "code",
   "execution_count": null,
   "metadata": {},
   "outputs": [],
   "source": [
    "import toml \n",
    "print(toml.dumps(output_data))"
   ]
  },
  {
   "cell_type": "code",
   "execution_count": 4,
   "metadata": {},
   "outputs": [
    {
     "name": "stdout",
     "output_type": "stream",
     "text": [
      "meta=None nextCursor=None tools=[Tool(name='execute_python_code', description='Executes the given Python code string and returns its output. the executed code should print its input and output if has any\\n\\nArgs:\\n    code: The Python code to execute.\\n', inputSchema={'properties': {'code': {'title': 'Code', 'type': 'string'}}, 'required': ['code'], 'title': 'execute_python_codeArguments', 'type': 'object'}, annotations=None), Tool(name='execute_bash_script', description='Executes the given bash script string and returns its output.\\nAttempts to filter out some potentially harmful commands.\\nthe executed script should print its input and output if has any\\n\\nArgs:\\n    script: The bash script to execute.\\n', inputSchema={'properties': {'script': {'title': 'Script', 'type': 'string'}}, 'required': ['script'], 'title': 'execute_bash_scriptArguments', 'type': 'object'}, annotations=None)]\n",
      "meta=None content=[TextContent(type='text', text='Execution successful:\\nOutput:\\nHello, world!\\n', annotations=None)] isError=False\n"
     ]
    }
   ],
   "source": [
    "from mcp.client.streamable_http import streamablehttp_client\n",
    "from mcp import ClientSession\n",
    "\n",
    "async def main():\n",
    "    async with streamablehttp_client(\"http://localhost:3002/mcp\") as (read_stream, write_stream, _):\n",
    "        async with ClientSession(read_stream, write_stream) as session:\n",
    "            await session.initialize()\n",
    "            tools = await session.list_tools()\n",
    "            print(tools)\n",
    "            res = await session.call_tool(\"execute_python_code\", {\"code\": \"print('Hello, world!')\"})\n",
    "            print(res)\n",
    "\n",
    "await main()\n",
    "\n"
   ]
  },
  {
   "cell_type": "code",
   "execution_count": null,
   "metadata": {},
   "outputs": [],
   "source": []
  }
 ],
 "metadata": {
  "kernelspec": {
   "display_name": ".venv",
   "language": "python",
   "name": "python3"
  },
  "language_info": {
   "codemirror_mode": {
    "name": "ipython",
    "version": 3
   },
   "file_extension": ".py",
   "mimetype": "text/x-python",
   "name": "python",
   "nbconvert_exporter": "python",
   "pygments_lexer": "ipython3",
   "version": "3.13.2"
  }
 },
 "nbformat": 4,
 "nbformat_minor": 2
}
